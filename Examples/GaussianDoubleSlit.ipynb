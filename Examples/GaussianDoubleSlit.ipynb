{
 "cells": [
  {
   "cell_type": "markdown",
   "id": "38a7670a",
   "metadata": {},
   "source": [
    "## Step 1: import the necessary packages\n",
    "\n",
    "The first thing to start out our program is to import the necessary packages for the simulation. `numpy` is needed for the basic numerical operations and constants like $\\pi$. For visualization, animation and general plotting, we need `matplotlib`. For further optimization and linear algebra tools, we need `scipy`. If you have not installed these libraries yet, you can do so by typing in your terminal:\n",
    "\n",
    "`pip install matplotlib`\n",
    "\n",
    "And so on."
   ]
  },
  {
   "cell_type": "code",
   "execution_count": 11,
   "id": "9f710d86",
   "metadata": {},
   "outputs": [],
   "source": [
    "import numpy as np\n",
    "import matplotlib.pyplot as plt\n",
    "from matplotlib.animation import FuncAnimation\n",
    "from matplotlib.patches import Rectangle\n",
    "from scipy.sparse import lil_matrix, csc_matrix\n",
    "from scipy.sparse.linalg import splu\n",
    "from matplotlib.animation import PillowWriter, FFMpegWriter"
   ]
  },
  {
   "cell_type": "markdown",
   "id": "7e378811",
   "metadata": {},
   "source": [
    "## Step 2: Definine the initial Gaussian wavepacket\n",
    "\n",
    "Solving the Schrodinger's equation requires initial conditions. Here, we give the initial shape of the Gaussian wavepacket, which is centered around $x_0$ and $y_0$. In this part of the program, we are simply creating the function that produces that wavepacket with a given pair $x_0, y_0$.\n",
    "\n",
    "The initial wavepacket is defined as $\\psi_o (x, y) = \\exp \\left[ \\frac{(x - x_0)^2 + (y - y_0)^2}{2\\sigma^2}\\right] \\exp \\left[ ik ( x - x_0)\\right]$"
   ]
  },
  {
   "cell_type": "code",
   "execution_count": 12,
   "id": "7bc88b31",
   "metadata": {},
   "outputs": [],
   "source": [
    "def psi0(x, y, x0, y0, sigma=0.5, k=15*np.pi):\n",
    "    return np.exp(-0.5*((x-x0)**2 + (y-y0)**2)/sigma**2) * np.exp(1j*k*(x-x0))"
   ]
  },
  {
   "cell_type": "markdown",
   "id": "7f2e0b46",
   "metadata": {},
   "source": [
    "## Step 3: Define the simulation parameters\n",
    "\n",
    "Here, $L$ is the length of the simulation box, $\\Delta_y$ is the grid step; $N_x$, $N_y$ and $N_t$ are the number of points in the $x, y$ directions and in the time axis. The constants\n",
    "$r_x = - \\frac{\\Delta t}{2i(\\Delta x)^2}$ and $r_y = - \\frac{\\Delta t}{2i(\\Delta y)^2}$ arise from the Crank-Nicholson numerical method."
   ]
  },
  {
   "cell_type": "code",
   "execution_count": 13,
   "id": "4441fc77",
   "metadata": {},
   "outputs": [],
   "source": [
    "L = 8                         # width of the well\n",
    "Dy = 0.05                     # size of the spatial step\n",
    "Dt = Dy**2 / 4                # size of the time step\n",
    "Nx = int(L / Dy) + 1          # number of points in the x spatial direction\n",
    "Ny = int(L / Dy) + 1          # number of points in the y spatial direction\n",
    "Nt = 500                      # number of time steps\n",
    "rx = -Dt / (2j * Dy**2)       # constant to simplify expressions (Crank-Nicholson's method)\n",
    "ry = -Dt / (2j * Dy**2)       # same as above\n",
    "\n",
    "# initial coordinates from the center of Gaussian\n",
    "x0 = L/5\n",
    "y0 = L/2"
   ]
  },
  {
   "cell_type": "markdown",
   "id": "1bb5386c",
   "metadata": {},
   "source": [
    "## Step 4: Define the double slit parameters"
   ]
  },
  {
   "cell_type": "code",
   "execution_count": 14,
   "id": "5ea7acdf",
   "metadata": {},
   "outputs": [],
   "source": [
    "# Width of the walls, separation between edges and aperture of slits\n",
    "w, s, a = 0.2, 0.8, 0.4\n",
    "\n",
    "# Indices that parametrize the double slit in the space ofpoints\n",
    "# Horizontal axis\n",
    "j0 = int(1/(2*Dy)*(L-w))\n",
    "j1 = int(1/(2*Dy)*(L+w))\n",
    "\n",
    "# Vertical axis\n",
    "i0 = int(1/(2*Dy)*(L+s) + a/Dy)\n",
    "i1 = int(1/(2*Dy)*(L+s))\n",
    "i2 = int(1/(2*Dy)*(L-s))\n",
    "i3 = int(1/(2*Dy)*(L-s) - a/Dy)\n",
    "\n",
    "# potential\n",
    "v = np.zeros((Ny, Ny), dtype=complex)\n",
    "\n",
    "# number of unknown factors\n",
    "Ni = (Nx-2)*(Ny-2)"
   ]
  },
  {
   "cell_type": "markdown",
   "id": "5483784f",
   "metadata": {},
   "source": [
    "## Step 5: Sparse matrix construction"
   ]
  },
  {
   "cell_type": "code",
   "execution_count": 15,
   "id": "7de0ac95",
   "metadata": {},
   "outputs": [],
   "source": [
    "A = lil_matrix((Ni, Ni), dtype=complex)\n",
    "M = lil_matrix((Ni, Ni), dtype=complex)\n",
    "\n",
    "for k in range(Ni):\n",
    "    i = 1 + k // (Ny - 2)\n",
    "    j = 1 + k % (Ny - 2)\n",
    "\n",
    "    # filling out the main diagonal\n",
    "    A[k, k] = 1 + 2*rx + 2*ry + 1j*Dt/2*v[i, j]\n",
    "    M[k, k] = 1 - 2*rx - 2*ry - 1j*Dt/2*v[i, j]\n",
    "\n",
    "    # lower diagonal\n",
    "    if i != 1:\n",
    "        A[k, (i-2)*(Ny-2)+j-1] = -ry\n",
    "        M[k, (i-2)*(Ny-2)+j-1] = ry\n",
    "    # upper diagonal   \n",
    "    if i != Nx-2:\n",
    "        A[k, i*(Ny-2)+j-1] = -ry\n",
    "        M[k, i*(Ny-2)+j-1] = ry\n",
    "    # lower main diagonal\n",
    "    if j != 1:\n",
    "        A[k, k-1] = -rx\n",
    "        M[k, k-1] = rx\n",
    "    # upper main diagonal\n",
    "    if j != Ny-2:\n",
    "        A[k, k+1] = -rx\n",
    "        M[k, k+1] = rx\n",
    "\n",
    "# coverting to sparse matrix\n",
    "Asp = A.tocsc()\n",
    "M = M.tocsc()\n",
    "\n",
    "# LU decomposition of sparse square matrix\n",
    "lu = splu(Asp)\n",
    "\n",
    "    "
   ]
  },
  {
   "cell_type": "markdown",
   "id": "fbcaf73a",
   "metadata": {},
   "source": [
    "## Step 6: Meshgrid for initialization and initial wavefunction"
   ]
  },
  {
   "cell_type": "code",
   "execution_count": 16,
   "id": "07fc08de",
   "metadata": {},
   "outputs": [],
   "source": [
    "x = np.linspace(1, L, Ny-2)\n",
    "y = np.linspace(0, L, Ny-2)\n",
    "x, y = np.meshgrid(x, y)\n",
    "\n",
    "# initializing the wavefunction with the Gaussian\n",
    "psi = psi0(x, y, x0, y0)\n",
    "\n",
    "# setting the wavefunction to zero at the boundaries of the simulation box \n",
    "psi[0, :] = psi[-1, :] = psi[:, 0] = psi[:, -1] = 0"
   ]
  },
  {
   "cell_type": "markdown",
   "id": "eef51b7b",
   "metadata": {},
   "source": [
    "## Step 7: apply slit mask"
   ]
  },
  {
   "cell_type": "code",
   "execution_count": 17,
   "id": "5c7d12e2",
   "metadata": {},
   "outputs": [],
   "source": [
    "# adding the double slit mask, canceling the wavefunction inside the walls of the double slit\n",
    "slit_mask = np.ones((Nx-2, Ny-2), dtype=bool)\n",
    "slit_mask[0:i3, j0:j1] = False\n",
    "slit_mask[i2:i1, j0:j1] = False\n",
    "slit_mask[i0:, j0:j1] = False\n",
    "psi *= slit_mask"
   ]
  },
  {
   "cell_type": "markdown",
   "id": "08f684f7",
   "metadata": {},
   "source": [
    "## Step 8: Perform time-evolution of the wave packet"
   ]
  },
  {
   "cell_type": "code",
   "execution_count": null,
   "id": "62154c7c",
   "metadata": {},
   "outputs": [
    {
     "ename": "AttributeError",
     "evalue": "'SuperLU' object has no attribute 'fastsolve'",
     "output_type": "error",
     "traceback": [
      "\u001b[31m---------------------------------------------------------------------------\u001b[39m",
      "\u001b[31mAttributeError\u001b[39m                            Traceback (most recent call last)",
      "\u001b[36mCell\u001b[39m\u001b[36m \u001b[39m\u001b[32mIn[18]\u001b[39m\u001b[32m, line 8\u001b[39m\n\u001b[32m      6\u001b[39m psi_vect = psi.reshape(Ni)\n\u001b[32m      7\u001b[39m b = M @ psi_vect\n\u001b[32m----> \u001b[39m\u001b[32m8\u001b[39m psi_vect = \u001b[43mlu\u001b[49m\u001b[43m.\u001b[49m\u001b[43mfastsolve\u001b[49m(b)\n\u001b[32m      9\u001b[39m psi = psi_vect.reshape((Nx-\u001b[32m2\u001b[39m, Ny-\u001b[32m2\u001b[39m))\n\u001b[32m     10\u001b[39m psi *= slit_mask\n",
      "\u001b[31mAttributeError\u001b[39m: 'SuperLU' object has no attribute 'fastsolve'"
     ]
    }
   ],
   "source": [
    "# Initializing the array that stores the psi(x,y) for every time step t as zeroes\n",
    "psis = np.zeros((Nt, Nx-2, Ny-2), dtype=complex)\n",
    "psis[0] = psi\n",
    "\n",
    "for i in range(1, Nt):\n",
    "    psi_vect = psi.reshape(Ni)\n",
    "    b = M @ psi_vect\n",
    "    psi_vect = lu.solve(b)\n",
    "    psi = psi_vect.reshape((Nx-2, Ny-2))\n",
    "    psi *= slit_mask\n",
    "    psis[i] = psi\n",
    "\n",
    "# Modulus of the wavefunctions\n",
    "mod_psis = np.abs(psis)"
   ]
  },
  {
   "cell_type": "code",
   "execution_count": null,
   "id": "9b3ee2a4",
   "metadata": {},
   "outputs": [
    {
     "data": {
      "text/plain": [
       "[]"
      ]
     },
     "execution_count": 9,
     "metadata": {},
     "output_type": "execute_result"
    },
    {
     "data": {
      "image/png": "[encoded data removed]",
      "text/plain": [
       "<Figure size 640x480 with 1 Axes>"
      ]
     },
     "metadata": {},
     "output_type": "display_data"
    }
   ],
   "source": [
    "fig = plt.figure()\n",
    "ax = fig.add_subplot(111, xlim=(0, L), ylim=(0, L))\n",
    "img = ax.imshow(mod_psis[0], extent=[0, L, 0, L], cmap=\"viridis\", vmin=0, vmax=np.max(mod_psis), interpolation=\"none\")\n",
    "\n",
    "\n",
    "# Defining the three parts of the wall \n",
    "wall_bottom = Rectangle((j0*Dy, 0), w, i3*Dy, color=\"w\", zorder=50)\n",
    "wall_middle = Rectangle((j0*Dy, i2*Dy), w, (i1-i2)*Dy, color=\"w\", zorder=50)\n",
    "wall_top    = Rectangle((j0*Dy, i0*Dy), w, i3*Dy, color=\"w\", zorder=50)\n",
    "ax.add_patch(wall_bottom)\n",
    "ax.add_patch(wall_middle)\n",
    "ax.add_patch(wall_top)\n",
    "\n",
    "# Removing the axes labels and ticks\n",
    "ax.set_xlabel('')\n",
    "ax.set_ylabel('')\n",
    "ax.set_xticks([])\n",
    "ax.set_yticks([])\n"
   ]
  },
  {
   "cell_type": "code",
   "execution_count": null,
   "id": "821a40ba",
   "metadata": {},
   "outputs": [],
   "source": [
    "from matplotlib.animation import PillowWriter, FFMpegWriter\n",
    "\n",
    "def animate(i):\n",
    "    img.set_data(mod_psis[i])\n",
    "    return img,\n",
    "\n",
    "anim = FuncAnimation(fig, animate, interval=1, frames=np.arange(0, Nt, 2), repeat=True, blit=0)\n",
    "#cbar = fig.colorbar(img)\n",
    "\n",
    "\n",
    "import os\n",
    "output_dir = os.getcwd()\n",
    "gif_path = os.path.join(output_dir, \"double_slit_simulation.gif\")\n",
    "mp4_path = os.path.join(output_dir, \"double_slit_simulation.mp4\")\n",
    "\n",
    "# Save it as a gif file\n",
    "anim.save(gif_path, writer=PillowWriter(fps=30))\n",
    "\n",
    "plt.show()"
   ]
  },
  {
   "cell_type": "code",
   "execution_count": null,
   "id": "b59701bc",
   "metadata": {},
   "outputs": [],
   "source": []
  }
 ],
 "metadata": {
  "kernelspec": {
   "display_name": "Python 3",
   "language": "python",
   "name": "python3"
  },
  "language_info": {
   "codemirror_mode": {
    "name": "ipython",
    "version": 3
   },
   "file_extension": ".py",
   "mimetype": "text/x-python",
   "name": "python",
   "nbconvert_exporter": "python",
   "pygments_lexer": "ipython3",
   "version": "3.13.5"
  }
 },
 "nbformat": 4,
 "nbformat_minor": 5
}
